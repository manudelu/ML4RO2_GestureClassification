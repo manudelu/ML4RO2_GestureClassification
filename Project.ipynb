{
  "cells": [
    {
      "cell_type": "markdown",
      "metadata": {
        "id": "i8NAvz9HbM-O"
      },
      "source": [
        "#***Classify Gestures by Reading Muscle Activity***\n",
        "\n",
        "a recording of human hand muscle activity producing four different hand gestures"
      ]
    },
    {
      "cell_type": "markdown",
      "metadata": {
        "id": "T3dSecl3IcjJ"
      },
      "source": [
        "Import useful functions and workspace"
      ]
    },
    {
      "cell_type": "code",
      "execution_count": null,
      "metadata": {
        "id": "eTQvCAlHbJgW"
      },
      "outputs": [],
      "source": [
        "import numpy as np\n",
        "from google.colab import drive\n",
        "import pandas as pd\n",
        "import matplotlib.pyplot as plt"
      ]
    },
    {
      "cell_type": "markdown",
      "metadata": {
        "id": "j9b6C8KLIhlc"
      },
      "source": [
        "Load datasets"
      ]
    },
    {
      "cell_type": "code",
      "execution_count": null,
      "metadata": {
        "id": "diJTBMcMF7a3",
        "outputId": "afc4538a-2c5f-4372-a341-fee6ab6663eb",
        "colab": {
          "base_uri": "https://localhost:8080/"
        }
      },
      "outputs": [
        {
          "output_type": "stream",
          "name": "stdout",
          "text": [
            "Mounted at /content/drive\n"
          ]
        }
      ],
      "source": [
        "drive.mount('/content/drive')"
      ]
    },
    {
      "cell_type": "code",
      "execution_count": null,
      "metadata": {
        "id": "ZAYanrTYF7-T"
      },
      "outputs": [],
      "source": [
        "data_folder = 'drive/MyDrive/Colab Notebooks/GesturesClassification/'"
      ]
    },
    {
      "cell_type": "code",
      "execution_count": null,
      "metadata": {
        "id": "RRYqpEtoE3GN"
      },
      "outputs": [],
      "source": [
        "gesture_0 = pd.read_csv(data_folder + '0.csv', header = None)\n",
        "gesture_1 = pd.read_csv(data_folder + '1.csv', header = None)\n",
        "gesture_2 = pd.read_csv(data_folder + '2.csv', header = None)\n",
        "gesture_3 = pd.read_csv(data_folder + '3.csv', header = None)"
      ]
    },
    {
      "cell_type": "code",
      "execution_count": null,
      "metadata": {
        "id": "83v2DweMIAZJ",
        "colab": {
          "base_uri": "https://localhost:8080/"
        },
        "outputId": "351b00cc-d473-44fe-b8d2-c710d889482a"
      },
      "outputs": [
        {
          "output_type": "execute_result",
          "data": {
            "text/plain": [
              "((2910, 65), (2903, 65), (2943, 65), (2922, 65))"
            ]
          },
          "metadata": {},
          "execution_count": 6
        }
      ],
      "source": [
        "gesture_0.shape, gesture_1.shape, gesture_2.shape, gesture_3.shape"
      ]
    },
    {
      "cell_type": "markdown",
      "metadata": {
        "id": "8xZ1io55iWND"
      },
      "source": [
        "Concatenate all 4 datasets into a single one"
      ]
    },
    {
      "cell_type": "code",
      "execution_count": null,
      "metadata": {
        "id": "caA10-Pb1AuZ"
      },
      "outputs": [],
      "source": [
        "gesture_0.reset_index(drop=True, inplace=True)\n",
        "gesture_1.reset_index(drop=True, inplace=True)\n",
        "gesture_2.reset_index(drop=True, inplace=True)\n",
        "gesture_3.reset_index(drop=True, inplace=True)\n",
        "data = pd.concat([gesture_0, gesture_1, gesture_2, gesture_3], ignore_index=True)"
      ]
    },
    {
      "cell_type": "code",
      "execution_count": null,
      "metadata": {
        "id": "vIwxlFN9qoEm"
      },
      "outputs": [],
      "source": [
        "data.columns = data.columns.astype(str)\n",
        "sensor_groups_headers = [f'{i}_{j}' for i in range(1, 9) for j in range(1, 9)]\n",
        "data.columns = sensor_groups_headers + ['gestures']"
      ]
    },
    {
      "cell_type": "code",
      "execution_count": null,
      "metadata": {
        "id": "_HvuCcHHkcCb",
        "colab": {
          "base_uri": "https://localhost:8080/"
        },
        "outputId": "e7ef76f6-f705-4438-a7f6-49fa7aa88e55"
      },
      "outputs": [
        {
          "output_type": "execute_result",
          "data": {
            "text/plain": [
              "(11678, 65)"
            ]
          },
          "metadata": {},
          "execution_count": 9
        }
      ],
      "source": [
        "data.shape"
      ]
    },
    {
      "cell_type": "code",
      "execution_count": null,
      "metadata": {
        "id": "xUBbp_9126BI",
        "colab": {
          "base_uri": "https://localhost:8080/",
          "height": 392
        },
        "outputId": "8614e17a-3e7f-4b07-b8c0-9b309a48a7b5"
      },
      "outputs": [
        {
          "output_type": "display_data",
          "data": {
            "text/plain": [
              "        1_1  1_2  1_3  1_4   1_5   1_6    1_7   1_8   2_1  2_2  ...   7_8  \\\n",
              "0      26.0  4.0  5.0  8.0  -1.0 -13.0 -109.0 -66.0  -9.0  2.0  ... -28.0   \n",
              "1     -47.0 -6.0 -5.0 -7.0  13.0  -1.0   35.0 -10.0  10.0 -4.0  ... -25.0   \n",
              "2     -19.0 -8.0 -8.0 -8.0 -21.0  -6.0  -79.0  12.0   0.0  5.0  ... -83.0   \n",
              "3       2.0  3.0  0.0  2.0   0.0  22.0  106.0 -14.0 -16.0 -2.0  ... -38.0   \n",
              "4       6.0  0.0  0.0 -2.0 -14.0  10.0  -51.0   5.0   7.0  0.0  ...  38.0   \n",
              "11673  -3.0 -1.0 -1.0 -1.0 -28.0  20.0    5.0   0.0  -5.0  0.0  ...  -3.0   \n",
              "11674 -13.0 -5.0 -4.0 -3.0  -4.0 -24.0  -10.0  -8.0  20.0  9.0  ...   6.0   \n",
              "11675  -1.0 -3.0 -1.0  1.0  30.0  38.0   -1.0  36.0 -10.0  1.0  ...  14.0   \n",
              "11676   1.0  4.0  4.0  5.0   9.0 -10.0    4.0   1.0  -2.0 -1.0  ... -16.0   \n",
              "11677  -2.0  4.0  2.0 -4.0  12.0   3.0   -2.0   9.0  -8.0 -2.0  ...   2.0   \n",
              "\n",
              "        8_1  8_2  8_3   8_4   8_5   8_6    8_7   8_8  gestures  \n",
              "0      61.0  4.0  8.0   5.0   4.0  -7.0  -59.0  16.0         0  \n",
              "1      47.0  6.0  6.0   5.0  13.0  21.0  111.0  15.0         0  \n",
              "2       7.0  7.0  1.0  -8.0   7.0  21.0  114.0  48.0         0  \n",
              "3     -11.0  4.0  7.0  11.0  33.0  39.0  119.0  43.0         0  \n",
              "4     -35.0 -8.0  2.0   6.0 -13.0 -24.0 -112.0 -69.0         0  \n",
              "11673   1.0  4.0  3.0   4.0 -51.0 -49.0    5.0  -9.0         3  \n",
              "11674  -3.0 -3.0 -3.0  -5.0  -4.0 -45.0  -12.0 -15.0         3  \n",
              "11675  -8.0 -4.0 -4.0  -4.0 -21.0 -29.0   -5.0   0.0         3  \n",
              "11676  -3.0  0.0 -3.0  -5.0 -36.0 -90.0    3.0   5.0         3  \n",
              "11677   1.0  0.0 -1.0  -2.0 -30.0  64.0   11.0   5.0         3  \n",
              "\n",
              "[10 rows x 65 columns]"
            ],
            "text/html": [
              "\n",
              "  <div id=\"df-7021a409-9890-4865-bb61-1027255a94c1\" class=\"colab-df-container\">\n",
              "    <div>\n",
              "<style scoped>\n",
              "    .dataframe tbody tr th:only-of-type {\n",
              "        vertical-align: middle;\n",
              "    }\n",
              "\n",
              "    .dataframe tbody tr th {\n",
              "        vertical-align: top;\n",
              "    }\n",
              "\n",
              "    .dataframe thead th {\n",
              "        text-align: right;\n",
              "    }\n",
              "</style>\n",
              "<table border=\"1\" class=\"dataframe\">\n",
              "  <thead>\n",
              "    <tr style=\"text-align: right;\">\n",
              "      <th></th>\n",
              "      <th>1_1</th>\n",
              "      <th>1_2</th>\n",
              "      <th>1_3</th>\n",
              "      <th>1_4</th>\n",
              "      <th>1_5</th>\n",
              "      <th>1_6</th>\n",
              "      <th>1_7</th>\n",
              "      <th>1_8</th>\n",
              "      <th>2_1</th>\n",
              "      <th>2_2</th>\n",
              "      <th>...</th>\n",
              "      <th>7_8</th>\n",
              "      <th>8_1</th>\n",
              "      <th>8_2</th>\n",
              "      <th>8_3</th>\n",
              "      <th>8_4</th>\n",
              "      <th>8_5</th>\n",
              "      <th>8_6</th>\n",
              "      <th>8_7</th>\n",
              "      <th>8_8</th>\n",
              "      <th>gestures</th>\n",
              "    </tr>\n",
              "  </thead>\n",
              "  <tbody>\n",
              "    <tr>\n",
              "      <th>0</th>\n",
              "      <td>26.0</td>\n",
              "      <td>4.0</td>\n",
              "      <td>5.0</td>\n",
              "      <td>8.0</td>\n",
              "      <td>-1.0</td>\n",
              "      <td>-13.0</td>\n",
              "      <td>-109.0</td>\n",
              "      <td>-66.0</td>\n",
              "      <td>-9.0</td>\n",
              "      <td>2.0</td>\n",
              "      <td>...</td>\n",
              "      <td>-28.0</td>\n",
              "      <td>61.0</td>\n",
              "      <td>4.0</td>\n",
              "      <td>8.0</td>\n",
              "      <td>5.0</td>\n",
              "      <td>4.0</td>\n",
              "      <td>-7.0</td>\n",
              "      <td>-59.0</td>\n",
              "      <td>16.0</td>\n",
              "      <td>0</td>\n",
              "    </tr>\n",
              "    <tr>\n",
              "      <th>1</th>\n",
              "      <td>-47.0</td>\n",
              "      <td>-6.0</td>\n",
              "      <td>-5.0</td>\n",
              "      <td>-7.0</td>\n",
              "      <td>13.0</td>\n",
              "      <td>-1.0</td>\n",
              "      <td>35.0</td>\n",
              "      <td>-10.0</td>\n",
              "      <td>10.0</td>\n",
              "      <td>-4.0</td>\n",
              "      <td>...</td>\n",
              "      <td>-25.0</td>\n",
              "      <td>47.0</td>\n",
              "      <td>6.0</td>\n",
              "      <td>6.0</td>\n",
              "      <td>5.0</td>\n",
              "      <td>13.0</td>\n",
              "      <td>21.0</td>\n",
              "      <td>111.0</td>\n",
              "      <td>15.0</td>\n",
              "      <td>0</td>\n",
              "    </tr>\n",
              "    <tr>\n",
              "      <th>2</th>\n",
              "      <td>-19.0</td>\n",
              "      <td>-8.0</td>\n",
              "      <td>-8.0</td>\n",
              "      <td>-8.0</td>\n",
              "      <td>-21.0</td>\n",
              "      <td>-6.0</td>\n",
              "      <td>-79.0</td>\n",
              "      <td>12.0</td>\n",
              "      <td>0.0</td>\n",
              "      <td>5.0</td>\n",
              "      <td>...</td>\n",
              "      <td>-83.0</td>\n",
              "      <td>7.0</td>\n",
              "      <td>7.0</td>\n",
              "      <td>1.0</td>\n",
              "      <td>-8.0</td>\n",
              "      <td>7.0</td>\n",
              "      <td>21.0</td>\n",
              "      <td>114.0</td>\n",
              "      <td>48.0</td>\n",
              "      <td>0</td>\n",
              "    </tr>\n",
              "    <tr>\n",
              "      <th>3</th>\n",
              "      <td>2.0</td>\n",
              "      <td>3.0</td>\n",
              "      <td>0.0</td>\n",
              "      <td>2.0</td>\n",
              "      <td>0.0</td>\n",
              "      <td>22.0</td>\n",
              "      <td>106.0</td>\n",
              "      <td>-14.0</td>\n",
              "      <td>-16.0</td>\n",
              "      <td>-2.0</td>\n",
              "      <td>...</td>\n",
              "      <td>-38.0</td>\n",
              "      <td>-11.0</td>\n",
              "      <td>4.0</td>\n",
              "      <td>7.0</td>\n",
              "      <td>11.0</td>\n",
              "      <td>33.0</td>\n",
              "      <td>39.0</td>\n",
              "      <td>119.0</td>\n",
              "      <td>43.0</td>\n",
              "      <td>0</td>\n",
              "    </tr>\n",
              "    <tr>\n",
              "      <th>4</th>\n",
              "      <td>6.0</td>\n",
              "      <td>0.0</td>\n",
              "      <td>0.0</td>\n",
              "      <td>-2.0</td>\n",
              "      <td>-14.0</td>\n",
              "      <td>10.0</td>\n",
              "      <td>-51.0</td>\n",
              "      <td>5.0</td>\n",
              "      <td>7.0</td>\n",
              "      <td>0.0</td>\n",
              "      <td>...</td>\n",
              "      <td>38.0</td>\n",
              "      <td>-35.0</td>\n",
              "      <td>-8.0</td>\n",
              "      <td>2.0</td>\n",
              "      <td>6.0</td>\n",
              "      <td>-13.0</td>\n",
              "      <td>-24.0</td>\n",
              "      <td>-112.0</td>\n",
              "      <td>-69.0</td>\n",
              "      <td>0</td>\n",
              "    </tr>\n",
              "    <tr>\n",
              "      <th>11673</th>\n",
              "      <td>-3.0</td>\n",
              "      <td>-1.0</td>\n",
              "      <td>-1.0</td>\n",
              "      <td>-1.0</td>\n",
              "      <td>-28.0</td>\n",
              "      <td>20.0</td>\n",
              "      <td>5.0</td>\n",
              "      <td>0.0</td>\n",
              "      <td>-5.0</td>\n",
              "      <td>0.0</td>\n",
              "      <td>...</td>\n",
              "      <td>-3.0</td>\n",
              "      <td>1.0</td>\n",
              "      <td>4.0</td>\n",
              "      <td>3.0</td>\n",
              "      <td>4.0</td>\n",
              "      <td>-51.0</td>\n",
              "      <td>-49.0</td>\n",
              "      <td>5.0</td>\n",
              "      <td>-9.0</td>\n",
              "      <td>3</td>\n",
              "    </tr>\n",
              "    <tr>\n",
              "      <th>11674</th>\n",
              "      <td>-13.0</td>\n",
              "      <td>-5.0</td>\n",
              "      <td>-4.0</td>\n",
              "      <td>-3.0</td>\n",
              "      <td>-4.0</td>\n",
              "      <td>-24.0</td>\n",
              "      <td>-10.0</td>\n",
              "      <td>-8.0</td>\n",
              "      <td>20.0</td>\n",
              "      <td>9.0</td>\n",
              "      <td>...</td>\n",
              "      <td>6.0</td>\n",
              "      <td>-3.0</td>\n",
              "      <td>-3.0</td>\n",
              "      <td>-3.0</td>\n",
              "      <td>-5.0</td>\n",
              "      <td>-4.0</td>\n",
              "      <td>-45.0</td>\n",
              "      <td>-12.0</td>\n",
              "      <td>-15.0</td>\n",
              "      <td>3</td>\n",
              "    </tr>\n",
              "    <tr>\n",
              "      <th>11675</th>\n",
              "      <td>-1.0</td>\n",
              "      <td>-3.0</td>\n",
              "      <td>-1.0</td>\n",
              "      <td>1.0</td>\n",
              "      <td>30.0</td>\n",
              "      <td>38.0</td>\n",
              "      <td>-1.0</td>\n",
              "      <td>36.0</td>\n",
              "      <td>-10.0</td>\n",
              "      <td>1.0</td>\n",
              "      <td>...</td>\n",
              "      <td>14.0</td>\n",
              "      <td>-8.0</td>\n",
              "      <td>-4.0</td>\n",
              "      <td>-4.0</td>\n",
              "      <td>-4.0</td>\n",
              "      <td>-21.0</td>\n",
              "      <td>-29.0</td>\n",
              "      <td>-5.0</td>\n",
              "      <td>0.0</td>\n",
              "      <td>3</td>\n",
              "    </tr>\n",
              "    <tr>\n",
              "      <th>11676</th>\n",
              "      <td>1.0</td>\n",
              "      <td>4.0</td>\n",
              "      <td>4.0</td>\n",
              "      <td>5.0</td>\n",
              "      <td>9.0</td>\n",
              "      <td>-10.0</td>\n",
              "      <td>4.0</td>\n",
              "      <td>1.0</td>\n",
              "      <td>-2.0</td>\n",
              "      <td>-1.0</td>\n",
              "      <td>...</td>\n",
              "      <td>-16.0</td>\n",
              "      <td>-3.0</td>\n",
              "      <td>0.0</td>\n",
              "      <td>-3.0</td>\n",
              "      <td>-5.0</td>\n",
              "      <td>-36.0</td>\n",
              "      <td>-90.0</td>\n",
              "      <td>3.0</td>\n",
              "      <td>5.0</td>\n",
              "      <td>3</td>\n",
              "    </tr>\n",
              "    <tr>\n",
              "      <th>11677</th>\n",
              "      <td>-2.0</td>\n",
              "      <td>4.0</td>\n",
              "      <td>2.0</td>\n",
              "      <td>-4.0</td>\n",
              "      <td>12.0</td>\n",
              "      <td>3.0</td>\n",
              "      <td>-2.0</td>\n",
              "      <td>9.0</td>\n",
              "      <td>-8.0</td>\n",
              "      <td>-2.0</td>\n",
              "      <td>...</td>\n",
              "      <td>2.0</td>\n",
              "      <td>1.0</td>\n",
              "      <td>0.0</td>\n",
              "      <td>-1.0</td>\n",
              "      <td>-2.0</td>\n",
              "      <td>-30.0</td>\n",
              "      <td>64.0</td>\n",
              "      <td>11.0</td>\n",
              "      <td>5.0</td>\n",
              "      <td>3</td>\n",
              "    </tr>\n",
              "  </tbody>\n",
              "</table>\n",
              "<p>10 rows × 65 columns</p>\n",
              "</div>\n",
              "    <div class=\"colab-df-buttons\">\n",
              "\n",
              "  <div class=\"colab-df-container\">\n",
              "    <button class=\"colab-df-convert\" onclick=\"convertToInteractive('df-7021a409-9890-4865-bb61-1027255a94c1')\"\n",
              "            title=\"Convert this dataframe to an interactive table.\"\n",
              "            style=\"display:none;\">\n",
              "\n",
              "  <svg xmlns=\"http://www.w3.org/2000/svg\" height=\"24px\" viewBox=\"0 -960 960 960\">\n",
              "    <path d=\"M120-120v-720h720v720H120Zm60-500h600v-160H180v160Zm220 220h160v-160H400v160Zm0 220h160v-160H400v160ZM180-400h160v-160H180v160Zm440 0h160v-160H620v160ZM180-180h160v-160H180v160Zm440 0h160v-160H620v160Z\"/>\n",
              "  </svg>\n",
              "    </button>\n",
              "\n",
              "  <style>\n",
              "    .colab-df-container {\n",
              "      display:flex;\n",
              "      gap: 12px;\n",
              "    }\n",
              "\n",
              "    .colab-df-convert {\n",
              "      background-color: #E8F0FE;\n",
              "      border: none;\n",
              "      border-radius: 50%;\n",
              "      cursor: pointer;\n",
              "      display: none;\n",
              "      fill: #1967D2;\n",
              "      height: 32px;\n",
              "      padding: 0 0 0 0;\n",
              "      width: 32px;\n",
              "    }\n",
              "\n",
              "    .colab-df-convert:hover {\n",
              "      background-color: #E2EBFA;\n",
              "      box-shadow: 0px 1px 2px rgba(60, 64, 67, 0.3), 0px 1px 3px 1px rgba(60, 64, 67, 0.15);\n",
              "      fill: #174EA6;\n",
              "    }\n",
              "\n",
              "    .colab-df-buttons div {\n",
              "      margin-bottom: 4px;\n",
              "    }\n",
              "\n",
              "    [theme=dark] .colab-df-convert {\n",
              "      background-color: #3B4455;\n",
              "      fill: #D2E3FC;\n",
              "    }\n",
              "\n",
              "    [theme=dark] .colab-df-convert:hover {\n",
              "      background-color: #434B5C;\n",
              "      box-shadow: 0px 1px 3px 1px rgba(0, 0, 0, 0.15);\n",
              "      filter: drop-shadow(0px 1px 2px rgba(0, 0, 0, 0.3));\n",
              "      fill: #FFFFFF;\n",
              "    }\n",
              "  </style>\n",
              "\n",
              "    <script>\n",
              "      const buttonEl =\n",
              "        document.querySelector('#df-7021a409-9890-4865-bb61-1027255a94c1 button.colab-df-convert');\n",
              "      buttonEl.style.display =\n",
              "        google.colab.kernel.accessAllowed ? 'block' : 'none';\n",
              "\n",
              "      async function convertToInteractive(key) {\n",
              "        const element = document.querySelector('#df-7021a409-9890-4865-bb61-1027255a94c1');\n",
              "        const dataTable =\n",
              "          await google.colab.kernel.invokeFunction('convertToInteractive',\n",
              "                                                    [key], {});\n",
              "        if (!dataTable) return;\n",
              "\n",
              "        const docLinkHtml = 'Like what you see? Visit the ' +\n",
              "          '<a target=\"_blank\" href=https://colab.research.google.com/notebooks/data_table.ipynb>data table notebook</a>'\n",
              "          + ' to learn more about interactive tables.';\n",
              "        element.innerHTML = '';\n",
              "        dataTable['output_type'] = 'display_data';\n",
              "        await google.colab.output.renderOutput(dataTable, element);\n",
              "        const docLink = document.createElement('div');\n",
              "        docLink.innerHTML = docLinkHtml;\n",
              "        element.appendChild(docLink);\n",
              "      }\n",
              "    </script>\n",
              "  </div>\n",
              "\n",
              "\n",
              "<div id=\"df-3baa1a0e-9fff-4f1a-9e07-a3246009e2d2\">\n",
              "  <button class=\"colab-df-quickchart\" onclick=\"quickchart('df-3baa1a0e-9fff-4f1a-9e07-a3246009e2d2')\"\n",
              "            title=\"Suggest charts\"\n",
              "            style=\"display:none;\">\n",
              "\n",
              "<svg xmlns=\"http://www.w3.org/2000/svg\" height=\"24px\"viewBox=\"0 0 24 24\"\n",
              "     width=\"24px\">\n",
              "    <g>\n",
              "        <path d=\"M19 3H5c-1.1 0-2 .9-2 2v14c0 1.1.9 2 2 2h14c1.1 0 2-.9 2-2V5c0-1.1-.9-2-2-2zM9 17H7v-7h2v7zm4 0h-2V7h2v10zm4 0h-2v-4h2v4z\"/>\n",
              "    </g>\n",
              "</svg>\n",
              "  </button>\n",
              "\n",
              "<style>\n",
              "  .colab-df-quickchart {\n",
              "      --bg-color: #E8F0FE;\n",
              "      --fill-color: #1967D2;\n",
              "      --hover-bg-color: #E2EBFA;\n",
              "      --hover-fill-color: #174EA6;\n",
              "      --disabled-fill-color: #AAA;\n",
              "      --disabled-bg-color: #DDD;\n",
              "  }\n",
              "\n",
              "  [theme=dark] .colab-df-quickchart {\n",
              "      --bg-color: #3B4455;\n",
              "      --fill-color: #D2E3FC;\n",
              "      --hover-bg-color: #434B5C;\n",
              "      --hover-fill-color: #FFFFFF;\n",
              "      --disabled-bg-color: #3B4455;\n",
              "      --disabled-fill-color: #666;\n",
              "  }\n",
              "\n",
              "  .colab-df-quickchart {\n",
              "    background-color: var(--bg-color);\n",
              "    border: none;\n",
              "    border-radius: 50%;\n",
              "    cursor: pointer;\n",
              "    display: none;\n",
              "    fill: var(--fill-color);\n",
              "    height: 32px;\n",
              "    padding: 0;\n",
              "    width: 32px;\n",
              "  }\n",
              "\n",
              "  .colab-df-quickchart:hover {\n",
              "    background-color: var(--hover-bg-color);\n",
              "    box-shadow: 0 1px 2px rgba(60, 64, 67, 0.3), 0 1px 3px 1px rgba(60, 64, 67, 0.15);\n",
              "    fill: var(--button-hover-fill-color);\n",
              "  }\n",
              "\n",
              "  .colab-df-quickchart-complete:disabled,\n",
              "  .colab-df-quickchart-complete:disabled:hover {\n",
              "    background-color: var(--disabled-bg-color);\n",
              "    fill: var(--disabled-fill-color);\n",
              "    box-shadow: none;\n",
              "  }\n",
              "\n",
              "  .colab-df-spinner {\n",
              "    border: 2px solid var(--fill-color);\n",
              "    border-color: transparent;\n",
              "    border-bottom-color: var(--fill-color);\n",
              "    animation:\n",
              "      spin 1s steps(1) infinite;\n",
              "  }\n",
              "\n",
              "  @keyframes spin {\n",
              "    0% {\n",
              "      border-color: transparent;\n",
              "      border-bottom-color: var(--fill-color);\n",
              "      border-left-color: var(--fill-color);\n",
              "    }\n",
              "    20% {\n",
              "      border-color: transparent;\n",
              "      border-left-color: var(--fill-color);\n",
              "      border-top-color: var(--fill-color);\n",
              "    }\n",
              "    30% {\n",
              "      border-color: transparent;\n",
              "      border-left-color: var(--fill-color);\n",
              "      border-top-color: var(--fill-color);\n",
              "      border-right-color: var(--fill-color);\n",
              "    }\n",
              "    40% {\n",
              "      border-color: transparent;\n",
              "      border-right-color: var(--fill-color);\n",
              "      border-top-color: var(--fill-color);\n",
              "    }\n",
              "    60% {\n",
              "      border-color: transparent;\n",
              "      border-right-color: var(--fill-color);\n",
              "    }\n",
              "    80% {\n",
              "      border-color: transparent;\n",
              "      border-right-color: var(--fill-color);\n",
              "      border-bottom-color: var(--fill-color);\n",
              "    }\n",
              "    90% {\n",
              "      border-color: transparent;\n",
              "      border-bottom-color: var(--fill-color);\n",
              "    }\n",
              "  }\n",
              "</style>\n",
              "\n",
              "  <script>\n",
              "    async function quickchart(key) {\n",
              "      const quickchartButtonEl =\n",
              "        document.querySelector('#' + key + ' button');\n",
              "      quickchartButtonEl.disabled = true;  // To prevent multiple clicks.\n",
              "      quickchartButtonEl.classList.add('colab-df-spinner');\n",
              "      try {\n",
              "        const charts = await google.colab.kernel.invokeFunction(\n",
              "            'suggestCharts', [key], {});\n",
              "      } catch (error) {\n",
              "        console.error('Error during call to suggestCharts:', error);\n",
              "      }\n",
              "      quickchartButtonEl.classList.remove('colab-df-spinner');\n",
              "      quickchartButtonEl.classList.add('colab-df-quickchart-complete');\n",
              "    }\n",
              "    (() => {\n",
              "      let quickchartButtonEl =\n",
              "        document.querySelector('#df-3baa1a0e-9fff-4f1a-9e07-a3246009e2d2 button');\n",
              "      quickchartButtonEl.style.display =\n",
              "        google.colab.kernel.accessAllowed ? 'block' : 'none';\n",
              "    })();\n",
              "  </script>\n",
              "</div>\n",
              "    </div>\n",
              "  </div>\n"
            ],
            "application/vnd.google.colaboratory.intrinsic+json": {
              "type": "dataframe"
            }
          },
          "metadata": {}
        }
      ],
      "source": [
        "display(pd.concat([data.head(5), data.tail(5)]))"
      ]
    },
    {
      "cell_type": "markdown",
      "metadata": {
        "id": "DKaMVZxmWZXV"
      },
      "source": [
        "Normalize sensor data and split samples into training (70%), validation (20%) and testing (10%)"
      ]
    },
    {
      "cell_type": "code",
      "execution_count": null,
      "metadata": {
        "id": "4StaQLiiUeov"
      },
      "outputs": [],
      "source": [
        "X = data.iloc[:, :-1]\n",
        "Y = data.iloc[:, -1]"
      ]
    },
    {
      "cell_type": "code",
      "execution_count": null,
      "metadata": {
        "id": "TuaPghrjtFN_",
        "colab": {
          "base_uri": "https://localhost:8080/"
        },
        "outputId": "c38804fd-f52e-4a4e-9fe3-23268c3bae26"
      },
      "outputs": [
        {
          "output_type": "stream",
          "name": "stdout",
          "text": [
            "<class 'pandas.core.frame.DataFrame'>\n",
            "(11678, 64)\n",
            "<class 'pandas.core.series.Series'>\n",
            "(11678,)\n"
          ]
        }
      ],
      "source": [
        "print(type(X))\n",
        "print(X.shape)\n",
        "print(type(Y))\n",
        "print(Y.shape)"
      ]
    },
    {
      "cell_type": "code",
      "execution_count": null,
      "metadata": {
        "id": "sScn-wbfaAcS"
      },
      "outputs": [],
      "source": [
        "from sklearn.model_selection import train_test_split\n",
        "X_train, X_test, Y_train, Y_test = train_test_split(X, Y, test_size = 0.3, random_state = 42)\n",
        "X_val, X_test, Y_val, Y_test = train_test_split(X_test, Y_test, test_size = 1/3, random_state = 42)"
      ]
    },
    {
      "cell_type": "code",
      "execution_count": null,
      "metadata": {
        "id": "maGD_-PEZTSy",
        "colab": {
          "base_uri": "https://localhost:8080/"
        },
        "outputId": "00a4964b-c9b8-46f9-c16b-0d6dc04e4171"
      },
      "outputs": [
        {
          "output_type": "stream",
          "name": "stdout",
          "text": [
            "Training set shapes:\n",
            "sensor_train: (8174, 64)\n",
            "output_gesture_train: (8174,)\n",
            "\n",
            "Validation set shapes:\n",
            "sensor_data_val: (2336, 64)\n",
            "output_gesture_val: (2336,)\n",
            "\n",
            "Test set shapes:\n",
            "sensor_data_test: (1168, 64)\n",
            "output_gesture_test: (1168,)\n"
          ]
        }
      ],
      "source": [
        "print('Training set shapes:')\n",
        "print('sensor_train:', X_train.shape)\n",
        "print('output_gesture_train:', Y_train.shape)\n",
        "\n",
        "print('\\nValidation set shapes:')\n",
        "print('sensor_data_val:', X_val.shape)\n",
        "print('output_gesture_val:', Y_val.shape)\n",
        "\n",
        "print('\\nTest set shapes:')\n",
        "print('sensor_data_test:', X_test.shape)\n",
        "print('output_gesture_test:', Y_test.shape)"
      ]
    },
    {
      "cell_type": "code",
      "execution_count": null,
      "metadata": {
        "id": "ZmaFiDqrg7Eh"
      },
      "outputs": [],
      "source": [
        "from sklearn.preprocessing import StandardScaler\n",
        "sc = StandardScaler()\n",
        "X_train_s = pd.DataFrame(sc.fit_transform(X_train))\n",
        "X_test_s = pd.DataFrame(sc.transform(X_test))\n",
        "X_val_s = pd.DataFrame(sc.transform(X_val))"
      ]
    },
    {
      "cell_type": "code",
      "source": [
        "from sklearn.decomposition import PCA\n",
        "\n",
        "pca = PCA(n_components=2)\n",
        "X_train_pca = pca.fit_transform(X_train_s)\n",
        "\n",
        "plt.figure(figsize=(8, 6))\n",
        "classes = Y_train.unique()\n",
        "colors = ['b', 'g', 'r', 'c', 'm', 'y', 'k']\n",
        "\n",
        "for i, class_ in enumerate(classes):\n",
        "    plt.scatter(X_train_pca[Y_train == class_, 0], X_train_pca[Y_train == class_, 1],\n",
        "                c=colors[i],\n",
        "                label=class_,\n",
        "                alpha=0.5)\n",
        "\n",
        "plt.xlabel('Principal Component 1')\n",
        "plt.ylabel('Principal Component 2')\n",
        "plt.title('PCA Scatter Plot of Features (Scaled Data)')\n",
        "plt.legend()\n",
        "plt.grid(True)\n",
        "plt.show()"
      ],
      "metadata": {
        "colab": {
          "base_uri": "https://localhost:8080/",
          "height": 564
        },
        "id": "-6drm9XTXIw9",
        "outputId": "2653bab7-4d62-41af-d81b-89cbfdbb0eda"
      },
      "execution_count": null,
      "outputs": [
        {
          "output_type": "display_data",
          "data": {
            "text/plain": [
              "<Figure size 800x600 with 1 Axes>"
            ],
            "image/png": "[encoded data removed]"
          },
          "metadata": {}
        }
      ]
    },
    {
      "cell_type": "markdown",
      "metadata": {
        "id": "AnyF8KQ0Yqc1"
      },
      "source": [
        "#Support Vector Classification (SVC)"
      ]
    },
    {
      "cell_type": "code",
      "execution_count": null,
      "metadata": {
        "id": "_nlcSoEb7J70",
        "colab": {
          "base_uri": "https://localhost:8080/"
        },
        "outputId": "49f6ad88-2af1-40da-ffd3-6936281fbe0d"
      },
      "outputs": [
        {
          "output_type": "stream",
          "name": "stdout",
          "text": [
            "Fitting 10 folds for each of 25 candidates, totalling 250 fits\n",
            "[CV] END .........................C=0.1, gamma=1, kernel=rbf; total time=   0.5s\n",
            "[CV] END .........................C=0.1, gamma=1, kernel=rbf; total time=   0.9s\n",
            "[CV] END .........................C=0.1, gamma=1, kernel=rbf; total time=   1.0s\n",
            "[CV] END .........................C=0.1, gamma=1, kernel=rbf; total time=   0.7s\n",
            "[CV] END .........................C=0.1, gamma=1, kernel=rbf; total time=   0.5s\n",
            "[CV] END .........................C=0.1, gamma=1, kernel=rbf; total time=   0.5s\n",
            "[CV] END .........................C=0.1, gamma=1, kernel=rbf; total time=   0.5s\n",
            "[CV] END .........................C=0.1, gamma=1, kernel=rbf; total time=   0.5s\n",
            "[CV] END .........................C=0.1, gamma=1, kernel=rbf; total time=   0.5s\n",
            "[CV] END .........................C=0.1, gamma=1, kernel=rbf; total time=   0.5s\n",
            "[CV] END .......................C=0.1, gamma=0.1, kernel=rbf; total time=   0.5s\n",
            "[CV] END .......................C=0.1, gamma=0.1, kernel=rbf; total time=   1.0s\n",
            "[CV] END .......................C=0.1, gamma=0.1, kernel=rbf; total time=   1.7s\n",
            "[CV] END .......................C=0.1, gamma=0.1, kernel=rbf; total time=   1.9s\n",
            "[CV] END .......................C=0.1, gamma=0.1, kernel=rbf; total time=   1.6s\n",
            "[CV] END .......................C=0.1, gamma=0.1, kernel=rbf; total time=   0.9s\n",
            "[CV] END .......................C=0.1, gamma=0.1, kernel=rbf; total time=   0.9s\n",
            "[CV] END .......................C=0.1, gamma=0.1, kernel=rbf; total time=   1.3s\n",
            "[CV] END .......................C=0.1, gamma=0.1, kernel=rbf; total time=   1.0s\n",
            "[CV] END .......................C=0.1, gamma=0.1, kernel=rbf; total time=   1.2s\n",
            "[CV] END ......................C=0.1, gamma=0.01, kernel=rbf; total time=   1.1s\n",
            "[CV] END ......................C=0.1, gamma=0.01, kernel=rbf; total time=   0.9s\n",
            "[CV] END ......................C=0.1, gamma=0.01, kernel=rbf; total time=   1.0s\n",
            "[CV] END ......................C=0.1, gamma=0.01, kernel=rbf; total time=   1.0s\n",
            "[CV] END ......................C=0.1, gamma=0.01, kernel=rbf; total time=   1.5s\n",
            "[CV] END ......................C=0.1, gamma=0.01, kernel=rbf; total time=   1.5s\n",
            "[CV] END ......................C=0.1, gamma=0.01, kernel=rbf; total time=   1.7s\n",
            "[CV] END ......................C=0.1, gamma=0.01, kernel=rbf; total time=   1.1s\n",
            "[CV] END ......................C=0.1, gamma=0.01, kernel=rbf; total time=   0.8s\n",
            "[CV] END ......................C=0.1, gamma=0.01, kernel=rbf; total time=   1.0s\n",
            "[CV] END .....................C=0.1, gamma=0.001, kernel=rbf; total time=   1.3s\n",
            "[CV] END .....................C=0.1, gamma=0.001, kernel=rbf; total time=   1.2s\n",
            "[CV] END .....................C=0.1, gamma=0.001, kernel=rbf; total time=   1.1s\n",
            "[CV] END .....................C=0.1, gamma=0.001, kernel=rbf; total time=   1.0s\n",
            "[CV] END .....................C=0.1, gamma=0.001, kernel=rbf; total time=   0.9s\n",
            "[CV] END .....................C=0.1, gamma=0.001, kernel=rbf; total time=   0.9s\n",
            "[CV] END .....................C=0.1, gamma=0.001, kernel=rbf; total time=   0.9s\n",
            "[CV] END .....................C=0.1, gamma=0.001, kernel=rbf; total time=   1.3s\n",
            "[CV] END .....................C=0.1, gamma=0.001, kernel=rbf; total time=   2.1s\n",
            "[CV] END .....................C=0.1, gamma=0.001, kernel=rbf; total time=   1.3s\n",
            "[CV] END ....................C=0.1, gamma=0.0001, kernel=rbf; total time=   1.0s\n",
            "[CV] END ....................C=0.1, gamma=0.0001, kernel=rbf; total time=   0.9s\n",
            "[CV] END ....................C=0.1, gamma=0.0001, kernel=rbf; total time=   1.0s\n",
            "[CV] END ....................C=0.1, gamma=0.0001, kernel=rbf; total time=   0.9s\n",
            "[CV] END ....................C=0.1, gamma=0.0001, kernel=rbf; total time=   1.0s\n",
            "[CV] END ....................C=0.1, gamma=0.0001, kernel=rbf; total time=   0.9s\n",
            "[CV] END ....................C=0.1, gamma=0.0001, kernel=rbf; total time=   0.8s\n",
            "[CV] END ....................C=0.1, gamma=0.0001, kernel=rbf; total time=   0.9s\n",
            "[CV] END ....................C=0.1, gamma=0.0001, kernel=rbf; total time=   0.9s\n",
            "[CV] END ....................C=0.1, gamma=0.0001, kernel=rbf; total time=   0.8s\n",
            "[CV] END ...........................C=1, gamma=1, kernel=rbf; total time=   1.0s\n",
            "[CV] END ...........................C=1, gamma=1, kernel=rbf; total time=   1.5s\n",
            "[CV] END ...........................C=1, gamma=1, kernel=rbf; total time=   1.6s\n",
            "[CV] END ...........................C=1, gamma=1, kernel=rbf; total time=   1.4s\n",
            "[CV] END ...........................C=1, gamma=1, kernel=rbf; total time=   1.1s\n",
            "[CV] END ...........................C=1, gamma=1, kernel=rbf; total time=   0.9s\n",
            "[CV] END ...........................C=1, gamma=1, kernel=rbf; total time=   0.9s\n",
            "[CV] END ...........................C=1, gamma=1, kernel=rbf; total time=   0.9s\n",
            "[CV] END ...........................C=1, gamma=1, kernel=rbf; total time=   1.0s\n",
            "[CV] END ...........................C=1, gamma=1, kernel=rbf; total time=   0.9s\n",
            "[CV] END .........................C=1, gamma=0.1, kernel=rbf; total time=   0.9s\n",
            "[CV] END .........................C=1, gamma=0.1, kernel=rbf; total time=   1.0s\n",
            "[CV] END .........................C=1, gamma=0.1, kernel=rbf; total time=   0.9s\n",
            "[CV] END .........................C=1, gamma=0.1, kernel=rbf; total time=   1.0s\n",
            "[CV] END .........................C=1, gamma=0.1, kernel=rbf; total time=   1.2s\n",
            "[CV] END .........................C=1, gamma=0.1, kernel=rbf; total time=   1.4s\n",
            "[CV] END .........................C=1, gamma=0.1, kernel=rbf; total time=   1.4s\n",
            "[CV] END .........................C=1, gamma=0.1, kernel=rbf; total time=   1.0s\n",
            "[CV] END .........................C=1, gamma=0.1, kernel=rbf; total time=   0.8s\n",
            "[CV] END .........................C=1, gamma=0.1, kernel=rbf; total time=   1.0s\n",
            "[CV] END ........................C=1, gamma=0.01, kernel=rbf; total time=   0.6s\n",
            "[CV] END ........................C=1, gamma=0.01, kernel=rbf; total time=   0.6s\n",
            "[CV] END ........................C=1, gamma=0.01, kernel=rbf; total time=   0.6s\n",
            "[CV] END ........................C=1, gamma=0.01, kernel=rbf; total time=   0.6s\n",
            "[CV] END ........................C=1, gamma=0.01, kernel=rbf; total time=   0.7s\n",
            "[CV] END ........................C=1, gamma=0.01, kernel=rbf; total time=   0.6s\n",
            "[CV] END ........................C=1, gamma=0.01, kernel=rbf; total time=   0.6s\n",
            "[CV] END ........................C=1, gamma=0.01, kernel=rbf; total time=   0.6s\n",
            "[CV] END ........................C=1, gamma=0.01, kernel=rbf; total time=   0.7s\n",
            "[CV] END ........................C=1, gamma=0.01, kernel=rbf; total time=   0.9s\n",
            "[CV] END .......................C=1, gamma=0.001, kernel=rbf; total time=   0.7s\n",
            "[CV] END .......................C=1, gamma=0.001, kernel=rbf; total time=   1.3s\n",
            "[CV] END .......................C=1, gamma=0.001, kernel=rbf; total time=   1.2s\n",
            "[CV] END .......................C=1, gamma=0.001, kernel=rbf; total time=   1.3s\n",
            "[CV] END .......................C=1, gamma=0.001, kernel=rbf; total time=   1.1s\n",
            "[CV] END .......................C=1, gamma=0.001, kernel=rbf; total time=   0.8s\n",
            "[CV] END .......................C=1, gamma=0.001, kernel=rbf; total time=   0.7s\n",
            "[CV] END .......................C=1, gamma=0.001, kernel=rbf; total time=   0.7s\n",
            "[CV] END .......................C=1, gamma=0.001, kernel=rbf; total time=   1.3s\n",
            "[CV] END .......................C=1, gamma=0.001, kernel=rbf; total time=   0.8s\n",
            "[CV] END ......................C=1, gamma=0.0001, kernel=rbf; total time=   0.8s\n",
            "[CV] END ......................C=1, gamma=0.0001, kernel=rbf; total time=   0.8s\n",
            "[CV] END ......................C=1, gamma=0.0001, kernel=rbf; total time=   0.8s\n",
            "[CV] END ......................C=1, gamma=0.0001, kernel=rbf; total time=   0.7s\n",
            "[CV] END ......................C=1, gamma=0.0001, kernel=rbf; total time=   0.5s\n",
            "[CV] END ......................C=1, gamma=0.0001, kernel=rbf; total time=   0.5s\n",
            "[CV] END ......................C=1, gamma=0.0001, kernel=rbf; total time=   0.5s\n",
            "[CV] END ......................C=1, gamma=0.0001, kernel=rbf; total time=   0.4s\n",
            "[CV] END ......................C=1, gamma=0.0001, kernel=rbf; total time=   0.5s\n",
            "[CV] END ......................C=1, gamma=0.0001, kernel=rbf; total time=   0.7s\n",
            "[CV] END ..........................C=10, gamma=1, kernel=rbf; total time=   0.9s\n",
            "[CV] END ..........................C=10, gamma=1, kernel=rbf; total time=   0.9s\n",
            "[CV] END ..........................C=10, gamma=1, kernel=rbf; total time=   0.9s\n",
            "[CV] END ..........................C=10, gamma=1, kernel=rbf; total time=   0.6s\n",
            "[CV] END ..........................C=10, gamma=1, kernel=rbf; total time=   0.5s\n",
            "[CV] END ..........................C=10, gamma=1, kernel=rbf; total time=   0.5s\n",
            "[CV] END ..........................C=10, gamma=1, kernel=rbf; total time=   0.5s\n",
            "[CV] END ..........................C=10, gamma=1, kernel=rbf; total time=   0.5s\n",
            "[CV] END ..........................C=10, gamma=1, kernel=rbf; total time=   0.5s\n",
            "[CV] END ..........................C=10, gamma=1, kernel=rbf; total time=   0.6s\n",
            "[CV] END ........................C=10, gamma=0.1, kernel=rbf; total time=   0.5s\n",
            "[CV] END ........................C=10, gamma=0.1, kernel=rbf; total time=   0.5s\n",
            "[CV] END ........................C=10, gamma=0.1, kernel=rbf; total time=   0.5s\n",
            "[CV] END ........................C=10, gamma=0.1, kernel=rbf; total time=   0.5s\n",
            "[CV] END ........................C=10, gamma=0.1, kernel=rbf; total time=   0.5s\n",
            "[CV] END ........................C=10, gamma=0.1, kernel=rbf; total time=   0.5s\n",
            "[CV] END ........................C=10, gamma=0.1, kernel=rbf; total time=   0.5s\n",
            "[CV] END ........................C=10, gamma=0.1, kernel=rbf; total time=   0.5s\n",
            "[CV] END ........................C=10, gamma=0.1, kernel=rbf; total time=   0.5s\n",
            "[CV] END ........................C=10, gamma=0.1, kernel=rbf; total time=   0.5s\n",
            "[CV] END .......................C=10, gamma=0.01, kernel=rbf; total time=   0.4s\n",
            "[CV] END .......................C=10, gamma=0.01, kernel=rbf; total time=   0.4s\n",
            "[CV] END .......................C=10, gamma=0.01, kernel=rbf; total time=   0.4s\n",
            "[CV] END .......................C=10, gamma=0.01, kernel=rbf; total time=   0.6s\n",
            "[CV] END .......................C=10, gamma=0.01, kernel=rbf; total time=   0.6s\n",
            "[CV] END .......................C=10, gamma=0.01, kernel=rbf; total time=   0.6s\n",
            "[CV] END .......................C=10, gamma=0.01, kernel=rbf; total time=   0.6s\n",
            "[CV] END .......................C=10, gamma=0.01, kernel=rbf; total time=   0.6s\n",
            "[CV] END .......................C=10, gamma=0.01, kernel=rbf; total time=   0.6s\n",
            "[CV] END .......................C=10, gamma=0.01, kernel=rbf; total time=   0.5s\n",
            "[CV] END ......................C=10, gamma=0.001, kernel=rbf; total time=   0.4s\n",
            "[CV] END ......................C=10, gamma=0.001, kernel=rbf; total time=   0.4s\n",
            "[CV] END ......................C=10, gamma=0.001, kernel=rbf; total time=   0.4s\n",
            "[CV] END ......................C=10, gamma=0.001, kernel=rbf; total time=   0.4s\n",
            "[CV] END ......................C=10, gamma=0.001, kernel=rbf; total time=   0.4s\n",
            "[CV] END ......................C=10, gamma=0.001, kernel=rbf; total time=   0.4s\n",
            "[CV] END ......................C=10, gamma=0.001, kernel=rbf; total time=   0.4s\n",
            "[CV] END ......................C=10, gamma=0.001, kernel=rbf; total time=   0.4s\n",
            "[CV] END ......................C=10, gamma=0.001, kernel=rbf; total time=   0.4s\n",
            "[CV] END ......................C=10, gamma=0.001, kernel=rbf; total time=   0.4s\n",
            "[CV] END .....................C=10, gamma=0.0001, kernel=rbf; total time=   0.4s\n",
            "[CV] END .....................C=10, gamma=0.0001, kernel=rbf; total time=   0.5s\n",
            "[CV] END .....................C=10, gamma=0.0001, kernel=rbf; total time=   0.4s\n",
            "[CV] END .....................C=10, gamma=0.0001, kernel=rbf; total time=   0.5s\n",
            "[CV] END .....................C=10, gamma=0.0001, kernel=rbf; total time=   0.5s\n",
            "[CV] END .....................C=10, gamma=0.0001, kernel=rbf; total time=   0.5s\n",
            "[CV] END .....................C=10, gamma=0.0001, kernel=rbf; total time=   0.5s\n",
            "[CV] END .....................C=10, gamma=0.0001, kernel=rbf; total time=   0.4s\n",
            "[CV] END .....................C=10, gamma=0.0001, kernel=rbf; total time=   0.5s\n",
            "[CV] END .....................C=10, gamma=0.0001, kernel=rbf; total time=   0.4s\n",
            "[CV] END .........................C=100, gamma=1, kernel=rbf; total time=   0.5s\n",
            "[CV] END .........................C=100, gamma=1, kernel=rbf; total time=   0.6s\n",
            "[CV] END .........................C=100, gamma=1, kernel=rbf; total time=   0.9s\n",
            "[CV] END .........................C=100, gamma=1, kernel=rbf; total time=   0.9s\n",
            "[CV] END .........................C=100, gamma=1, kernel=rbf; total time=   0.9s\n",
            "[CV] END .........................C=100, gamma=1, kernel=rbf; total time=   0.9s\n",
            "[CV] END .........................C=100, gamma=1, kernel=rbf; total time=   0.6s\n",
            "[CV] END .........................C=100, gamma=1, kernel=rbf; total time=   0.5s\n",
            "[CV] END .........................C=100, gamma=1, kernel=rbf; total time=   0.5s\n",
            "[CV] END .........................C=100, gamma=1, kernel=rbf; total time=   0.5s\n",
            "[CV] END .......................C=100, gamma=0.1, kernel=rbf; total time=   0.5s\n",
            "[CV] END .......................C=100, gamma=0.1, kernel=rbf; total time=   0.5s\n",
            "[CV] END .......................C=100, gamma=0.1, kernel=rbf; total time=   0.5s\n",
            "[CV] END .......................C=100, gamma=0.1, kernel=rbf; total time=   0.5s\n",
            "[CV] END .......................C=100, gamma=0.1, kernel=rbf; total time=   0.5s\n",
            "[CV] END .......................C=100, gamma=0.1, kernel=rbf; total time=   0.5s\n",
            "[CV] END .......................C=100, gamma=0.1, kernel=rbf; total time=   0.5s\n",
            "[CV] END .......................C=100, gamma=0.1, kernel=rbf; total time=   0.5s\n",
            "[CV] END .......................C=100, gamma=0.1, kernel=rbf; total time=   0.5s\n",
            "[CV] END .......................C=100, gamma=0.1, kernel=rbf; total time=   1.0s\n",
            "[CV] END ......................C=100, gamma=0.01, kernel=rbf; total time=   0.4s\n",
            "[CV] END ......................C=100, gamma=0.01, kernel=rbf; total time=   0.4s\n",
            "[CV] END ......................C=100, gamma=0.01, kernel=rbf; total time=   0.4s\n",
            "[CV] END ......................C=100, gamma=0.01, kernel=rbf; total time=   0.4s\n",
            "[CV] END ......................C=100, gamma=0.01, kernel=rbf; total time=   0.4s\n",
            "[CV] END ......................C=100, gamma=0.01, kernel=rbf; total time=   0.6s\n",
            "[CV] END ......................C=100, gamma=0.01, kernel=rbf; total time=   0.7s\n",
            "[CV] END ......................C=100, gamma=0.01, kernel=rbf; total time=   0.6s\n",
            "[CV] END ......................C=100, gamma=0.01, kernel=rbf; total time=   0.6s\n",
            "[CV] END ......................C=100, gamma=0.01, kernel=rbf; total time=   0.7s\n",
            "[CV] END .....................C=100, gamma=0.001, kernel=rbf; total time=   0.8s\n",
            "[CV] END .....................C=100, gamma=0.001, kernel=rbf; total time=   0.5s\n",
            "[CV] END .....................C=100, gamma=0.001, kernel=rbf; total time=   0.5s\n",
            "[CV] END .....................C=100, gamma=0.001, kernel=rbf; total time=   0.5s\n",
            "[CV] END .....................C=100, gamma=0.001, kernel=rbf; total time=   0.5s\n",
            "[CV] END .....................C=100, gamma=0.001, kernel=rbf; total time=   0.5s\n",
            "[CV] END .....................C=100, gamma=0.001, kernel=rbf; total time=   0.5s\n",
            "[CV] END .....................C=100, gamma=0.001, kernel=rbf; total time=   0.5s\n",
            "[CV] END .....................C=100, gamma=0.001, kernel=rbf; total time=   0.5s\n",
            "[CV] END .....................C=100, gamma=0.001, kernel=rbf; total time=   0.5s\n",
            "[CV] END ....................C=100, gamma=0.0001, kernel=rbf; total time=   0.5s\n",
            "[CV] END ....................C=100, gamma=0.0001, kernel=rbf; total time=   0.5s\n",
            "[CV] END ....................C=100, gamma=0.0001, kernel=rbf; total time=   0.5s\n",
            "[CV] END ....................C=100, gamma=0.0001, kernel=rbf; total time=   0.5s\n",
            "[CV] END ....................C=100, gamma=0.0001, kernel=rbf; total time=   0.5s\n",
            "[CV] END ....................C=100, gamma=0.0001, kernel=rbf; total time=   0.5s\n",
            "[CV] END ....................C=100, gamma=0.0001, kernel=rbf; total time=   0.5s\n",
            "[CV] END ....................C=100, gamma=0.0001, kernel=rbf; total time=   0.5s\n",
            "[CV] END ....................C=100, gamma=0.0001, kernel=rbf; total time=   0.5s\n",
            "[CV] END ....................C=100, gamma=0.0001, kernel=rbf; total time=   0.4s\n",
            "[CV] END ........................C=1000, gamma=1, kernel=rbf; total time=   0.6s\n",
            "[CV] END ........................C=1000, gamma=1, kernel=rbf; total time=   0.9s\n",
            "[CV] END ........................C=1000, gamma=1, kernel=rbf; total time=   0.8s\n",
            "[CV] END ........................C=1000, gamma=1, kernel=rbf; total time=   0.9s\n",
            "[CV] END ........................C=1000, gamma=1, kernel=rbf; total time=   0.9s\n",
            "[CV] END ........................C=1000, gamma=1, kernel=rbf; total time=   0.6s\n",
            "[CV] END ........................C=1000, gamma=1, kernel=rbf; total time=   0.5s\n",
            "[CV] END ........................C=1000, gamma=1, kernel=rbf; total time=   0.5s\n",
            "[CV] END ........................C=1000, gamma=1, kernel=rbf; total time=   0.5s\n",
            "[CV] END ........................C=1000, gamma=1, kernel=rbf; total time=   0.6s\n",
            "[CV] END ......................C=1000, gamma=0.1, kernel=rbf; total time=   0.5s\n",
            "[CV] END ......................C=1000, gamma=0.1, kernel=rbf; total time=   0.5s\n",
            "[CV] END ......................C=1000, gamma=0.1, kernel=rbf; total time=   0.5s\n",
            "[CV] END ......................C=1000, gamma=0.1, kernel=rbf; total time=   0.5s\n",
            "[CV] END ......................C=1000, gamma=0.1, kernel=rbf; total time=   0.5s\n",
            "[CV] END ......................C=1000, gamma=0.1, kernel=rbf; total time=   0.6s\n",
            "[CV] END ......................C=1000, gamma=0.1, kernel=rbf; total time=   0.5s\n",
            "[CV] END ......................C=1000, gamma=0.1, kernel=rbf; total time=   0.6s\n",
            "[CV] END ......................C=1000, gamma=0.1, kernel=rbf; total time=   0.5s\n",
            "[CV] END ......................C=1000, gamma=0.1, kernel=rbf; total time=   0.5s\n",
            "[CV] END .....................C=1000, gamma=0.01, kernel=rbf; total time=   0.4s\n",
            "[CV] END .....................C=1000, gamma=0.01, kernel=rbf; total time=   0.4s\n",
            "[CV] END .....................C=1000, gamma=0.01, kernel=rbf; total time=   0.4s\n",
            "[CV] END .....................C=1000, gamma=0.01, kernel=rbf; total time=   0.4s\n",
            "[CV] END .....................C=1000, gamma=0.01, kernel=rbf; total time=   0.4s\n",
            "[CV] END .....................C=1000, gamma=0.01, kernel=rbf; total time=   0.7s\n",
            "[CV] END .....................C=1000, gamma=0.01, kernel=rbf; total time=   0.6s\n",
            "[CV] END .....................C=1000, gamma=0.01, kernel=rbf; total time=   0.6s\n",
            "[CV] END .....................C=1000, gamma=0.01, kernel=rbf; total time=   0.6s\n",
            "[CV] END .....................C=1000, gamma=0.01, kernel=rbf; total time=   0.7s\n",
            "[CV] END ....................C=1000, gamma=0.001, kernel=rbf; total time=   1.3s\n",
            "[CV] END ....................C=1000, gamma=0.001, kernel=rbf; total time=   1.0s\n",
            "[CV] END ....................C=1000, gamma=0.001, kernel=rbf; total time=   1.0s\n",
            "[CV] END ....................C=1000, gamma=0.001, kernel=rbf; total time=   1.0s\n",
            "[CV] END ....................C=1000, gamma=0.001, kernel=rbf; total time=   0.9s\n",
            "[CV] END ....................C=1000, gamma=0.001, kernel=rbf; total time=   1.0s\n",
            "[CV] END ....................C=1000, gamma=0.001, kernel=rbf; total time=   1.0s\n",
            "[CV] END ....................C=1000, gamma=0.001, kernel=rbf; total time=   0.9s\n",
            "[CV] END ....................C=1000, gamma=0.001, kernel=rbf; total time=   0.9s\n",
            "[CV] END ....................C=1000, gamma=0.001, kernel=rbf; total time=   1.0s\n",
            "[CV] END ...................C=1000, gamma=0.0001, kernel=rbf; total time=   0.7s\n",
            "[CV] END ...................C=1000, gamma=0.0001, kernel=rbf; total time=   1.1s\n",
            "[CV] END ...................C=1000, gamma=0.0001, kernel=rbf; total time=   1.1s\n",
            "[CV] END ...................C=1000, gamma=0.0001, kernel=rbf; total time=   1.1s\n",
            "[CV] END ...................C=1000, gamma=0.0001, kernel=rbf; total time=   0.9s\n",
            "[CV] END ...................C=1000, gamma=0.0001, kernel=rbf; total time=   0.7s\n",
            "[CV] END ...................C=1000, gamma=0.0001, kernel=rbf; total time=   0.6s\n",
            "[CV] END ...................C=1000, gamma=0.0001, kernel=rbf; total time=   0.7s\n",
            "[CV] END ...................C=1000, gamma=0.0001, kernel=rbf; total time=   0.7s\n",
            "[CV] END ...................C=1000, gamma=0.0001, kernel=rbf; total time=   0.7s\n",
            "Total training time: 184.9703278541565 seconds\n"
          ]
        }
      ],
      "source": [
        "from sklearn.model_selection import GridSearchCV\n",
        "from sklearn.svm import SVC\n",
        "from sklearn.metrics import confusion_matrix\n",
        "import time\n",
        "\n",
        "grid = {'C'      : [0.1, 1, 10, 100, 1000],#np.logspace(-4,3,10),\n",
        "        'kernel' : ['rbf'],\n",
        "        'gamma'  : [1, 0.1, 0.01, 0.001, 0.0001]}#np.logspace(-4,3,10)}\n",
        "\n",
        "MS = GridSearchCV(estimator   = SVC(),\n",
        "                  param_grid  = grid,\n",
        "                  scoring     = 'accuracy',\n",
        "                  cv          = 10,\n",
        "                  verbose     = 2)\n",
        "\n",
        "\n",
        "start_time = time.time()\n",
        "\n",
        "H = MS.fit(X_val_s, Y_val)\n",
        "\n",
        "end_time = time.time()\n",
        "training_time = end_time - start_time\n",
        "print(\"Total training time:\", training_time, \"seconds\")"
      ]
    },
    {
      "cell_type": "code",
      "execution_count": null,
      "metadata": {
        "id": "eLoVC2KV9oZQ",
        "colab": {
          "base_uri": "https://localhost:8080/"
        },
        "outputId": "9a00d054-011f-4130-f140-d8f0a4ee311f"
      },
      "outputs": [
        {
          "output_type": "stream",
          "name": "stdout",
          "text": [
            "Best: 0.857445 using {'C': 10, 'gamma': 0.01, 'kernel': 'rbf'}\n",
            "0.259418 (0.002077) with: {'C': 0.1, 'gamma': 1, 'kernel': 'rbf'}\n",
            "0.289377 (0.012099) with: {'C': 0.1, 'gamma': 0.1, 'kernel': 'rbf'}\n",
            "0.523977 (0.022000) with: {'C': 0.1, 'gamma': 0.01, 'kernel': 'rbf'}\n",
            "0.259418 (0.002077) with: {'C': 0.1, 'gamma': 0.001, 'kernel': 'rbf'}\n",
            "0.259418 (0.002077) with: {'C': 0.1, 'gamma': 0.0001, 'kernel': 'rbf'}\n",
            "0.259418 (0.002077) with: {'C': 1, 'gamma': 1, 'kernel': 'rbf'}\n",
            "0.574036 (0.017359) with: {'C': 1, 'gamma': 0.1, 'kernel': 'rbf'}\n",
            "0.752568 (0.014699) with: {'C': 1, 'gamma': 0.01, 'kernel': 'rbf'}\n",
            "0.401537 (0.014420) with: {'C': 1, 'gamma': 0.001, 'kernel': 'rbf'}\n",
            "0.259418 (0.002077) with: {'C': 1, 'gamma': 0.0001, 'kernel': 'rbf'}\n",
            "0.259418 (0.002077) with: {'C': 10, 'gamma': 1, 'kernel': 'rbf'}\n",
            "0.601867 (0.017493) with: {'C': 10, 'gamma': 0.1, 'kernel': 'rbf'}\n",
            "0.857445 (0.019915) with: {'C': 10, 'gamma': 0.01, 'kernel': 'rbf'}\n",
            "0.579199 (0.029358) with: {'C': 10, 'gamma': 0.001, 'kernel': 'rbf'}\n",
            "0.319741 (0.025500) with: {'C': 10, 'gamma': 0.0001, 'kernel': 'rbf'}\n",
            "0.259418 (0.002077) with: {'C': 100, 'gamma': 1, 'kernel': 'rbf'}\n",
            "0.601867 (0.017493) with: {'C': 100, 'gamma': 0.1, 'kernel': 'rbf'}\n",
            "0.855733 (0.017023) with: {'C': 100, 'gamma': 0.01, 'kernel': 'rbf'}\n",
            "0.788513 (0.017127) with: {'C': 100, 'gamma': 0.001, 'kernel': 'rbf'}\n",
            "0.422945 (0.022046) with: {'C': 100, 'gamma': 0.0001, 'kernel': 'rbf'}\n",
            "0.259418 (0.002077) with: {'C': 1000, 'gamma': 1, 'kernel': 'rbf'}\n",
            "0.601867 (0.017493) with: {'C': 1000, 'gamma': 0.1, 'kernel': 'rbf'}\n",
            "0.852307 (0.017268) with: {'C': 1000, 'gamma': 0.01, 'kernel': 'rbf'}\n",
            "0.850594 (0.016120) with: {'C': 1000, 'gamma': 0.001, 'kernel': 'rbf'}\n",
            "0.568946 (0.025760) with: {'C': 1000, 'gamma': 0.0001, 'kernel': 'rbf'}\n"
          ]
        }
      ],
      "source": [
        "print(\"Best: %f using %s\" % (H.best_score_, H.best_params_))\n",
        "means = H.cv_results_['mean_test_score']\n",
        "stds = H.cv_results_['std_test_score']\n",
        "params = H.cv_results_['params']\n",
        "for mean, stdev, param in zip(means, stds, params):\n",
        "    print(\"%f (%f) with: %r\" % (mean, stdev, param))"
      ]
    },
    {
      "cell_type": "code",
      "execution_count": null,
      "metadata": {
        "id": "NjHPMoC9OpxA",
        "colab": {
          "base_uri": "https://localhost:8080/"
        },
        "outputId": "aeffd493-705c-4e56-a408-76f62bd37136"
      },
      "outputs": [
        {
          "output_type": "stream",
          "name": "stdout",
          "text": [
            "0.09417808219178082\n"
          ]
        }
      ],
      "source": [
        "M = SVC(C                       = H.best_params_['C'],\n",
        "        kernel                  = 'rbf',\n",
        "        gamma                   = H.best_params_['gamma'],\n",
        "        decision_function_shape = 'ovr')\n",
        "\n",
        "M.fit(X_train_s, Y_train)\n",
        "Y_pred_svm = M.predict(X_test_s)\n",
        "err = np.mean(Y_pred_svm != Y_test)\n",
        "print(err)"
      ]
    },
    {
      "cell_type": "code",
      "execution_count": null,
      "metadata": {
        "id": "VZwDRM3omXXh",
        "colab": {
          "base_uri": "https://localhost:8080/"
        },
        "outputId": "d74bc666-ec0c-4e47-e40b-23a6d4767b58"
      },
      "outputs": [
        {
          "output_type": "stream",
          "name": "stdout",
          "text": [
            "Classification Report: \n",
            "               precision    recall  f1-score   support\n",
            "\n",
            "           0       0.91      0.94      0.92       269\n",
            "           1       0.90      0.97      0.94       317\n",
            "           2       0.93      0.87      0.90       284\n",
            "           3       0.89      0.84      0.86       298\n",
            "\n",
            "    accuracy                           0.91      1168\n",
            "   macro avg       0.91      0.91      0.90      1168\n",
            "weighted avg       0.91      0.91      0.91      1168\n",
            "\n"
          ]
        }
      ],
      "source": [
        "from sklearn.metrics import classification_report\n",
        "print('Classification Report: \\n', classification_report(Y_test,Y_pred_svm))"
      ]
    },
    {
      "cell_type": "code",
      "execution_count": null,
      "metadata": {
        "id": "322Dnc03ZKdF",
        "colab": {
          "base_uri": "https://localhost:8080/",
          "height": 568
        },
        "outputId": "3225c5e8-b386-400e-eb56-1eb95ee8be5d"
      },
      "outputs": [
        {
          "output_type": "display_data",
          "data": {
            "text/plain": [
              "<Figure size 800x600 with 2 Axes>"
            ],
            "image/png": "[encoded data removed]"
          },
          "metadata": {}
        }
      ],
      "source": [
        "import seaborn as sns\n",
        "f,ax = plt.subplots(figsize=(8, 6))\n",
        "confusion_mtx = confusion_matrix(Y_test,Y_pred_svm)\n",
        "sns.set(font_scale=1.4)\n",
        "sns.heatmap(confusion_mtx, annot=True, fmt='d', linewidths=0.01,cmap=\"Blues\",linecolor=\"gray\",ax=ax)\n",
        "plt.xlabel(\"Predicted\")\n",
        "plt.ylabel(\"Real\")\n",
        "plt.title(\"Confusion Matrix (SVC)\")\n",
        "plt.show()"
      ]
    },
    {
      "cell_type": "markdown",
      "metadata": {
        "id": "NPnGGgHcX5dc"
      },
      "source": [
        "#Random Forest  "
      ]
    },
    {
      "cell_type": "code",
      "execution_count": null,
      "metadata": {
        "id": "64BxKrfZX5kv",
        "colab": {
          "base_uri": "https://localhost:8080/"
        },
        "outputId": "fcec1860-57bc-417f-8c05-931f025e6ef5"
      },
      "outputs": [
        {
          "output_type": "stream",
          "name": "stdout",
          "text": [
            "Fitting 10 folds for each of 6 candidates, totalling 60 fits\n",
            "[CV] END .................max_features=log2, max_samples=0.3; total time=   0.5s\n",
            "[CV] END .................max_features=log2, max_samples=0.3; total time=   0.5s\n",
            "[CV] END .................max_features=log2, max_samples=0.3; total time=   0.5s\n",
            "[CV] END .................max_features=log2, max_samples=0.3; total time=   0.5s\n",
            "[CV] END .................max_features=log2, max_samples=0.3; total time=   0.5s\n",
            "[CV] END .................max_features=log2, max_samples=0.3; total time=   0.5s\n",
            "[CV] END .................max_features=log2, max_samples=0.3; total time=   0.5s\n",
            "[CV] END .................max_features=log2, max_samples=0.3; total time=   0.5s\n",
            "[CV] END .................max_features=log2, max_samples=0.3; total time=   0.5s\n",
            "[CV] END .................max_features=log2, max_samples=0.3; total time=   0.5s\n",
            "[CV] END .................max_features=log2, max_samples=0.5; total time=   0.7s\n",
            "[CV] END .................max_features=log2, max_samples=0.5; total time=   0.7s\n",
            "[CV] END .................max_features=log2, max_samples=0.5; total time=   0.8s\n",
            "[CV] END .................max_features=log2, max_samples=0.5; total time=   0.9s\n",
            "[CV] END .................max_features=log2, max_samples=0.5; total time=   0.9s\n",
            "[CV] END .................max_features=log2, max_samples=0.5; total time=   1.0s\n",
            "[CV] END .................max_features=log2, max_samples=0.5; total time=   0.7s\n",
            "[CV] END .................max_features=log2, max_samples=0.5; total time=   0.7s\n",
            "[CV] END .................max_features=log2, max_samples=0.5; total time=   0.7s\n",
            "[CV] END .................max_features=log2, max_samples=0.5; total time=   0.6s\n",
            "[CV] END .................max_features=log2, max_samples=0.7; total time=   0.8s\n",
            "[CV] END .................max_features=log2, max_samples=0.7; total time=   0.8s\n",
            "[CV] END .................max_features=log2, max_samples=0.7; total time=   0.8s\n",
            "[CV] END .................max_features=log2, max_samples=0.7; total time=   0.8s\n",
            "[CV] END .................max_features=log2, max_samples=0.7; total time=   0.8s\n",
            "[CV] END .................max_features=log2, max_samples=0.7; total time=   0.8s\n",
            "[CV] END .................max_features=log2, max_samples=0.7; total time=   0.8s\n",
            "[CV] END .................max_features=log2, max_samples=0.7; total time=   0.8s\n",
            "[CV] END .................max_features=log2, max_samples=0.7; total time=   0.8s\n",
            "[CV] END .................max_features=log2, max_samples=0.7; total time=   1.0s\n",
            "[CV] END .................max_features=sqrt, max_samples=0.3; total time=   0.8s\n",
            "[CV] END .................max_features=sqrt, max_samples=0.3; total time=   0.8s\n",
            "[CV] END .................max_features=sqrt, max_samples=0.3; total time=   0.8s\n",
            "[CV] END .................max_features=sqrt, max_samples=0.3; total time=   0.7s\n",
            "[CV] END .................max_features=sqrt, max_samples=0.3; total time=   0.6s\n",
            "[CV] END .................max_features=sqrt, max_samples=0.3; total time=   0.5s\n",
            "[CV] END .................max_features=sqrt, max_samples=0.3; total time=   0.6s\n",
            "[CV] END .................max_features=sqrt, max_samples=0.3; total time=   0.6s\n",
            "[CV] END .................max_features=sqrt, max_samples=0.3; total time=   0.5s\n",
            "[CV] END .................max_features=sqrt, max_samples=0.3; total time=   0.6s\n",
            "[CV] END .................max_features=sqrt, max_samples=0.5; total time=   0.8s\n",
            "[CV] END .................max_features=sqrt, max_samples=0.5; total time=   0.8s\n",
            "[CV] END .................max_features=sqrt, max_samples=0.5; total time=   0.8s\n",
            "[CV] END .................max_features=sqrt, max_samples=0.5; total time=   0.8s\n",
            "[CV] END .................max_features=sqrt, max_samples=0.5; total time=   0.8s\n",
            "[CV] END .................max_features=sqrt, max_samples=0.5; total time=   0.8s\n",
            "[CV] END .................max_features=sqrt, max_samples=0.5; total time=   0.8s\n",
            "[CV] END .................max_features=sqrt, max_samples=0.5; total time=   0.8s\n",
            "[CV] END .................max_features=sqrt, max_samples=0.5; total time=   1.1s\n",
            "[CV] END .................max_features=sqrt, max_samples=0.5; total time=   1.1s\n",
            "[CV] END .................max_features=sqrt, max_samples=0.7; total time=   1.4s\n",
            "[CV] END .................max_features=sqrt, max_samples=0.7; total time=   1.0s\n",
            "[CV] END .................max_features=sqrt, max_samples=0.7; total time=   1.0s\n",
            "[CV] END .................max_features=sqrt, max_samples=0.7; total time=   1.0s\n",
            "[CV] END .................max_features=sqrt, max_samples=0.7; total time=   1.0s\n",
            "[CV] END .................max_features=sqrt, max_samples=0.7; total time=   1.0s\n",
            "[CV] END .................max_features=sqrt, max_samples=0.7; total time=   1.0s\n",
            "[CV] END .................max_features=sqrt, max_samples=0.7; total time=   1.0s\n",
            "[CV] END .................max_features=sqrt, max_samples=0.7; total time=   1.0s\n",
            "[CV] END .................max_features=sqrt, max_samples=0.7; total time=   1.0s\n",
            "Total training time: 46.82664084434509 seconds\n"
          ]
        }
      ],
      "source": [
        "from sklearn.ensemble import RandomForestClassifier\n",
        "from sklearn.model_selection import GridSearchCV\n",
        "\n",
        "grid_search = {'max_features' : ['log2', 'sqrt'],\n",
        "               'max_samples' : [0.3, 0.5, 0.7]}\n",
        "\n",
        "GS = GridSearchCV(estimator   = RandomForestClassifier(),\n",
        "                  param_grid  = grid_search,\n",
        "                    scoring   = 'accuracy',\n",
        "                    cv        = 10,\n",
        "                    verbose   = 2)\n",
        "\n",
        "start_time = time.time()\n",
        "\n",
        "H = GS.fit(X_val_s, Y_val)\n",
        "\n",
        "end_time = time.time()\n",
        "training_time = end_time - start_time\n",
        "print(\"Total training time:\", training_time, \"seconds\")"
      ]
    },
    {
      "cell_type": "code",
      "execution_count": null,
      "metadata": {
        "id": "S3FeJ302YIt5",
        "colab": {
          "base_uri": "https://localhost:8080/"
        },
        "outputId": "26d8e814-4205-4937-b35a-f0815ef0b758"
      },
      "outputs": [
        {
          "output_type": "stream",
          "name": "stdout",
          "text": [
            "Best: 0.910964 using {'max_features': 'log2', 'max_samples': 0.7}\n",
            "0.901544 (0.019986) with: {'max_features': 'log2', 'max_samples': 0.3}\n",
            "0.904543 (0.014794) with: {'max_features': 'log2', 'max_samples': 0.5}\n",
            "0.910964 (0.014879) with: {'max_features': 'log2', 'max_samples': 0.7}\n",
            "0.900259 (0.019539) with: {'max_features': 'sqrt', 'max_samples': 0.3}\n",
            "0.901981 (0.020428) with: {'max_features': 'sqrt', 'max_samples': 0.5}\n",
            "0.900686 (0.012966) with: {'max_features': 'sqrt', 'max_samples': 0.7}\n"
          ]
        }
      ],
      "source": [
        "print(\"Best: %f using %s\" % (H.best_score_, H.best_params_))\n",
        "means = H.cv_results_['mean_test_score']\n",
        "stds = H.cv_results_['std_test_score']\n",
        "params = H.cv_results_['params']\n",
        "for mean, stdev, param in zip(means, stds, params):\n",
        "    print(\"%f (%f) with: %r\" % (mean, stdev, param))"
      ]
    },
    {
      "cell_type": "code",
      "execution_count": null,
      "metadata": {
        "id": "dYt1o6tF95ui",
        "colab": {
          "base_uri": "https://localhost:8080/"
        },
        "outputId": "9cc8b086-1b33-4d8d-af7a-e18ca66081bd"
      },
      "outputs": [
        {
          "output_type": "stream",
          "name": "stdout",
          "text": [
            "Best: 0.910964 using {'max_features': 'log2', 'max_samples': 0.7}\n"
          ]
        }
      ],
      "source": [
        "print(\"Best: %f using %s\" % (H.best_score_, H.best_params_))"
      ]
    },
    {
      "cell_type": "code",
      "execution_count": null,
      "metadata": {
        "id": "RKCFsEEBYuZo",
        "colab": {
          "base_uri": "https://localhost:8080/"
        },
        "outputId": "0b869ec2-1fc0-4520-facd-42bdbd534507"
      },
      "outputs": [
        {
          "output_type": "stream",
          "name": "stdout",
          "text": [
            "0.07705479452054795\n"
          ]
        }
      ],
      "source": [
        "M = RandomForestClassifier(max_features  = H.best_params_['max_features'],\n",
        "                           max_samples   = H.best_params_['max_samples'])\n",
        "M.fit(X_train_s, Y_train)\n",
        "\n",
        "Y_pred_rf = M.predict(X_test_s)\n",
        "err = np.mean(Y_pred_rf != Y_test)\n",
        "print(err)"
      ]
    },
    {
      "cell_type": "code",
      "execution_count": null,
      "metadata": {
        "id": "sFkyy3N0Zsdi",
        "colab": {
          "base_uri": "https://localhost:8080/"
        },
        "outputId": "c3752061-44d2-477f-ac7e-77e059f42672"
      },
      "outputs": [
        {
          "output_type": "stream",
          "name": "stdout",
          "text": [
            "Classification Report: \n",
            "               precision    recall  f1-score   support\n",
            "\n",
            "           0       0.91      0.97      0.94       269\n",
            "           1       0.96      0.92      0.94       317\n",
            "           2       0.92      0.96      0.94       284\n",
            "           3       0.90      0.85      0.88       298\n",
            "\n",
            "    accuracy                           0.92      1168\n",
            "   macro avg       0.92      0.92      0.92      1168\n",
            "weighted avg       0.92      0.92      0.92      1168\n",
            "\n"
          ]
        }
      ],
      "source": [
        "from sklearn.metrics import classification_report\n",
        "print('Classification Report: \\n', classification_report(Y_test,Y_pred_rf))"
      ]
    },
    {
      "cell_type": "code",
      "execution_count": null,
      "metadata": {
        "id": "enuxVvy6Ywi3",
        "colab": {
          "base_uri": "https://localhost:8080/",
          "height": 587
        },
        "outputId": "f23c1aa1-ffcf-444e-ae65-4b1292e1a627"
      },
      "outputs": [
        {
          "output_type": "display_data",
          "data": {
            "text/plain": [
              "<Figure size 800x600 with 2 Axes>"
            ],
            "image/png": "[encoded data removed]"
          },
          "metadata": {}
        }
      ],
      "source": [
        "from sklearn.metrics import confusion_matrix\n",
        "f,ax = plt.subplots(figsize=(8, 6))\n",
        "confusion_mtx = confusion_matrix(Y_test,Y_pred_rf)\n",
        "sns.set(font_scale=1.4)\n",
        "sns.heatmap(confusion_mtx, annot=True,  fmt='d', linewidths=0.01,cmap=\"Reds\",linecolor=\"gray\",ax=ax)\n",
        "plt.xlabel(\"Predicted\")\n",
        "plt.ylabel(\"Real\")\n",
        "plt.title(\"Confusion Matrix (Random Forest)\")\n",
        "plt.show()"
      ]
    },
    {
      "cell_type": "markdown",
      "metadata": {
        "id": "OSG7rnln5Rym"
      },
      "source": [
        "# Metrics"
      ]
    },
    {
      "cell_type": "code",
      "execution_count": null,
      "metadata": {
        "id": "Kr1TEo5j33cJ"
      },
      "outputs": [],
      "source": [
        "from sklearn.metrics import precision_recall_fscore_support as score\n",
        "from sklearn.metrics import accuracy_score\n",
        "metrics = []\n",
        "models = ['Support Vector Classifier', 'Random Forest']\n",
        "predictions=[Y_pred_svm, Y_pred_rf]\n",
        "\n",
        "for lab,i in zip(models, predictions):\n",
        "    precision, recall, fscore, _ = score(Y_test, i, average='weighted')\n",
        "    accuracy = accuracy_score(Y_test, i)\n",
        "    f1 = 2 * (precision * recall) / (precision + recall)\n",
        "    metrics.append(pd.Series({'precision':precision, 'recall':recall,\n",
        "                              'f1-score':f1, 'accuracy':accuracy}, name=lab))\n",
        "\n",
        "metrics = pd.concat(metrics, axis=1)"
      ]
    },
    {
      "cell_type": "code",
      "execution_count": null,
      "metadata": {
        "id": "4Xn9fQ974k28",
        "colab": {
          "base_uri": "https://localhost:8080/",
          "height": 175
        },
        "outputId": "59bfd698-58aa-49c1-ff73-395bebf7cc02"
      },
      "outputs": [
        {
          "output_type": "execute_result",
          "data": {
            "text/plain": [
              "           Support Vector Classifier  Random Forest\n",
              "precision                   0.905870       0.923433\n",
              "recall                      0.905822       0.922945\n",
              "f1-score                    0.905846       0.923189\n",
              "accuracy                    0.905822       0.922945"
            ],
            "text/html": [
              "\n",
              "  <div id=\"df-515f6136-e6a8-426d-90aa-ea1af226ca08\" class=\"colab-df-container\">\n",
              "    <div>\n",
              "<style scoped>\n",
              "    .dataframe tbody tr th:only-of-type {\n",
              "        vertical-align: middle;\n",
              "    }\n",
              "\n",
              "    .dataframe tbody tr th {\n",
              "        vertical-align: top;\n",
              "    }\n",
              "\n",
              "    .dataframe thead th {\n",
              "        text-align: right;\n",
              "    }\n",
              "</style>\n",
              "<table border=\"1\" class=\"dataframe\">\n",
              "  <thead>\n",
              "    <tr style=\"text-align: right;\">\n",
              "      <th></th>\n",
              "      <th>Support Vector Classifier</th>\n",
              "      <th>Random Forest</th>\n",
              "    </tr>\n",
              "  </thead>\n",
              "  <tbody>\n",
              "    <tr>\n",
              "      <th>precision</th>\n",
              "      <td>0.905870</td>\n",
              "      <td>0.923433</td>\n",
              "    </tr>\n",
              "    <tr>\n",
              "      <th>recall</th>\n",
              "      <td>0.905822</td>\n",
              "      <td>0.922945</td>\n",
              "    </tr>\n",
              "    <tr>\n",
              "      <th>f1-score</th>\n",
              "      <td>0.905846</td>\n",
              "      <td>0.923189</td>\n",
              "    </tr>\n",
              "    <tr>\n",
              "      <th>accuracy</th>\n",
              "      <td>0.905822</td>\n",
              "      <td>0.922945</td>\n",
              "    </tr>\n",
              "  </tbody>\n",
              "</table>\n",
              "</div>\n",
              "    <div class=\"colab-df-buttons\">\n",
              "\n",
              "  <div class=\"colab-df-container\">\n",
              "    <button class=\"colab-df-convert\" onclick=\"convertToInteractive('df-515f6136-e6a8-426d-90aa-ea1af226ca08')\"\n",
              "            title=\"Convert this dataframe to an interactive table.\"\n",
              "            style=\"display:none;\">\n",
              "\n",
              "  <svg xmlns=\"http://www.w3.org/2000/svg\" height=\"24px\" viewBox=\"0 -960 960 960\">\n",
              "    <path d=\"M120-120v-720h720v720H120Zm60-500h600v-160H180v160Zm220 220h160v-160H400v160Zm0 220h160v-160H400v160ZM180-400h160v-160H180v160Zm440 0h160v-160H620v160ZM180-180h160v-160H180v160Zm440 0h160v-160H620v160Z\"/>\n",
              "  </svg>\n",
              "    </button>\n",
              "\n",
              "  <style>\n",
              "    .colab-df-container {\n",
              "      display:flex;\n",
              "      gap: 12px;\n",
              "    }\n",
              "\n",
              "    .colab-df-convert {\n",
              "      background-color: #E8F0FE;\n",
              "      border: none;\n",
              "      border-radius: 50%;\n",
              "      cursor: pointer;\n",
              "      display: none;\n",
              "      fill: #1967D2;\n",
              "      height: 32px;\n",
              "      padding: 0 0 0 0;\n",
              "      width: 32px;\n",
              "    }\n",
              "\n",
              "    .colab-df-convert:hover {\n",
              "      background-color: #E2EBFA;\n",
              "      box-shadow: 0px 1px 2px rgba(60, 64, 67, 0.3), 0px 1px 3px 1px rgba(60, 64, 67, 0.15);\n",
              "      fill: #174EA6;\n",
              "    }\n",
              "\n",
              "    .colab-df-buttons div {\n",
              "      margin-bottom: 4px;\n",
              "    }\n",
              "\n",
              "    [theme=dark] .colab-df-convert {\n",
              "      background-color: #3B4455;\n",
              "      fill: #D2E3FC;\n",
              "    }\n",
              "\n",
              "    [theme=dark] .colab-df-convert:hover {\n",
              "      background-color: #434B5C;\n",
              "      box-shadow: 0px 1px 3px 1px rgba(0, 0, 0, 0.15);\n",
              "      filter: drop-shadow(0px 1px 2px rgba(0, 0, 0, 0.3));\n",
              "      fill: #FFFFFF;\n",
              "    }\n",
              "  </style>\n",
              "\n",
              "    <script>\n",
              "      const buttonEl =\n",
              "        document.querySelector('#df-515f6136-e6a8-426d-90aa-ea1af226ca08 button.colab-df-convert');\n",
              "      buttonEl.style.display =\n",
              "        google.colab.kernel.accessAllowed ? 'block' : 'none';\n",
              "\n",
              "      async function convertToInteractive(key) {\n",
              "        const element = document.querySelector('#df-515f6136-e6a8-426d-90aa-ea1af226ca08');\n",
              "        const dataTable =\n",
              "          await google.colab.kernel.invokeFunction('convertToInteractive',\n",
              "                                                    [key], {});\n",
              "        if (!dataTable) return;\n",
              "\n",
              "        const docLinkHtml = 'Like what you see? Visit the ' +\n",
              "          '<a target=\"_blank\" href=https://colab.research.google.com/notebooks/data_table.ipynb>data table notebook</a>'\n",
              "          + ' to learn more about interactive tables.';\n",
              "        element.innerHTML = '';\n",
              "        dataTable['output_type'] = 'display_data';\n",
              "        await google.colab.output.renderOutput(dataTable, element);\n",
              "        const docLink = document.createElement('div');\n",
              "        docLink.innerHTML = docLinkHtml;\n",
              "        element.appendChild(docLink);\n",
              "      }\n",
              "    </script>\n",
              "  </div>\n",
              "\n",
              "\n",
              "<div id=\"df-609d073e-f0ff-4548-bb97-351126820d63\">\n",
              "  <button class=\"colab-df-quickchart\" onclick=\"quickchart('df-609d073e-f0ff-4548-bb97-351126820d63')\"\n",
              "            title=\"Suggest charts\"\n",
              "            style=\"display:none;\">\n",
              "\n",
              "<svg xmlns=\"http://www.w3.org/2000/svg\" height=\"24px\"viewBox=\"0 0 24 24\"\n",
              "     width=\"24px\">\n",
              "    <g>\n",
              "        <path d=\"M19 3H5c-1.1 0-2 .9-2 2v14c0 1.1.9 2 2 2h14c1.1 0 2-.9 2-2V5c0-1.1-.9-2-2-2zM9 17H7v-7h2v7zm4 0h-2V7h2v10zm4 0h-2v-4h2v4z\"/>\n",
              "    </g>\n",
              "</svg>\n",
              "  </button>\n",
              "\n",
              "<style>\n",
              "  .colab-df-quickchart {\n",
              "      --bg-color: #E8F0FE;\n",
              "      --fill-color: #1967D2;\n",
              "      --hover-bg-color: #E2EBFA;\n",
              "      --hover-fill-color: #174EA6;\n",
              "      --disabled-fill-color: #AAA;\n",
              "      --disabled-bg-color: #DDD;\n",
              "  }\n",
              "\n",
              "  [theme=dark] .colab-df-quickchart {\n",
              "      --bg-color: #3B4455;\n",
              "      --fill-color: #D2E3FC;\n",
              "      --hover-bg-color: #434B5C;\n",
              "      --hover-fill-color: #FFFFFF;\n",
              "      --disabled-bg-color: #3B4455;\n",
              "      --disabled-fill-color: #666;\n",
              "  }\n",
              "\n",
              "  .colab-df-quickchart {\n",
              "    background-color: var(--bg-color);\n",
              "    border: none;\n",
              "    border-radius: 50%;\n",
              "    cursor: pointer;\n",
              "    display: none;\n",
              "    fill: var(--fill-color);\n",
              "    height: 32px;\n",
              "    padding: 0;\n",
              "    width: 32px;\n",
              "  }\n",
              "\n",
              "  .colab-df-quickchart:hover {\n",
              "    background-color: var(--hover-bg-color);\n",
              "    box-shadow: 0 1px 2px rgba(60, 64, 67, 0.3), 0 1px 3px 1px rgba(60, 64, 67, 0.15);\n",
              "    fill: var(--button-hover-fill-color);\n",
              "  }\n",
              "\n",
              "  .colab-df-quickchart-complete:disabled,\n",
              "  .colab-df-quickchart-complete:disabled:hover {\n",
              "    background-color: var(--disabled-bg-color);\n",
              "    fill: var(--disabled-fill-color);\n",
              "    box-shadow: none;\n",
              "  }\n",
              "\n",
              "  .colab-df-spinner {\n",
              "    border: 2px solid var(--fill-color);\n",
              "    border-color: transparent;\n",
              "    border-bottom-color: var(--fill-color);\n",
              "    animation:\n",
              "      spin 1s steps(1) infinite;\n",
              "  }\n",
              "\n",
              "  @keyframes spin {\n",
              "    0% {\n",
              "      border-color: transparent;\n",
              "      border-bottom-color: var(--fill-color);\n",
              "      border-left-color: var(--fill-color);\n",
              "    }\n",
              "    20% {\n",
              "      border-color: transparent;\n",
              "      border-left-color: var(--fill-color);\n",
              "      border-top-color: var(--fill-color);\n",
              "    }\n",
              "    30% {\n",
              "      border-color: transparent;\n",
              "      border-left-color: var(--fill-color);\n",
              "      border-top-color: var(--fill-color);\n",
              "      border-right-color: var(--fill-color);\n",
              "    }\n",
              "    40% {\n",
              "      border-color: transparent;\n",
              "      border-right-color: var(--fill-color);\n",
              "      border-top-color: var(--fill-color);\n",
              "    }\n",
              "    60% {\n",
              "      border-color: transparent;\n",
              "      border-right-color: var(--fill-color);\n",
              "    }\n",
              "    80% {\n",
              "      border-color: transparent;\n",
              "      border-right-color: var(--fill-color);\n",
              "      border-bottom-color: var(--fill-color);\n",
              "    }\n",
              "    90% {\n",
              "      border-color: transparent;\n",
              "      border-bottom-color: var(--fill-color);\n",
              "    }\n",
              "  }\n",
              "</style>\n",
              "\n",
              "  <script>\n",
              "    async function quickchart(key) {\n",
              "      const quickchartButtonEl =\n",
              "        document.querySelector('#' + key + ' button');\n",
              "      quickchartButtonEl.disabled = true;  // To prevent multiple clicks.\n",
              "      quickchartButtonEl.classList.add('colab-df-spinner');\n",
              "      try {\n",
              "        const charts = await google.colab.kernel.invokeFunction(\n",
              "            'suggestCharts', [key], {});\n",
              "      } catch (error) {\n",
              "        console.error('Error during call to suggestCharts:', error);\n",
              "      }\n",
              "      quickchartButtonEl.classList.remove('colab-df-spinner');\n",
              "      quickchartButtonEl.classList.add('colab-df-quickchart-complete');\n",
              "    }\n",
              "    (() => {\n",
              "      let quickchartButtonEl =\n",
              "        document.querySelector('#df-609d073e-f0ff-4548-bb97-351126820d63 button');\n",
              "      quickchartButtonEl.style.display =\n",
              "        google.colab.kernel.accessAllowed ? 'block' : 'none';\n",
              "    })();\n",
              "  </script>\n",
              "</div>\n",
              "    </div>\n",
              "  </div>\n"
            ],
            "application/vnd.google.colaboratory.intrinsic+json": {
              "type": "dataframe",
              "variable_name": "metrics",
              "summary": "{\n  \"name\": \"metrics\",\n  \"rows\": 4,\n  \"fields\": [\n    {\n      \"column\": \"Support Vector Classifier\",\n      \"properties\": {\n        \"dtype\": \"number\",\n        \"std\": 2.2944675679598036e-05,\n        \"min\": 0.9058219178082192,\n        \"max\": 0.905869847787798,\n        \"num_unique_values\": 3,\n        \"samples\": [\n          0.905869847787798,\n          0.9058219178082192,\n          0.9058458821639926\n        ],\n        \"semantic_type\": \"\",\n        \"description\": \"\"\n      }\n    },\n    {\n      \"column\": \"Random Forest\",\n      \"properties\": {\n        \"dtype\": \"number\",\n        \"std\": 0.00023338752724226988,\n        \"min\": 0.922945205479452,\n        \"max\": 0.9234327478223987,\n        \"num_unique_values\": 3,\n        \"samples\": [\n          0.9234327478223987,\n          0.922945205479452,\n          0.9231889122823231\n        ],\n        \"semantic_type\": \"\",\n        \"description\": \"\"\n      }\n    }\n  ]\n}"
            }
          },
          "metadata": {},
          "execution_count": 31
        }
      ],
      "source": [
        "metrics"
      ]
    }
  ],
  "metadata": {
    "colab": {
      "provenance": []
    },
    "kernelspec": {
      "display_name": "Python 3",
      "name": "python3"
    },
    "language_info": {
      "name": "python"
    }
  },
  "nbformat": 4,
  "nbformat_minor": 0
}